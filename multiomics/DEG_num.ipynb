{
 "cells": [
  {
   "cell_type": "code",
   "execution_count": 1,
   "id": "06ceaf54-4df0-4c14-8a24-db4c981bee85",
   "metadata": {},
   "outputs": [],
   "source": [
    "setwd(Sys.getenv(\"HOME\"))"
   ]
  },
  {
   "cell_type": "code",
   "execution_count": 2,
   "id": "79e83886-ff84-4845-93ae-3d4f26b7dd98",
   "metadata": {
    "tags": []
   },
   "outputs": [],
   "source": [
    "source(\"R_func/mutate_load.R\")"
   ]
  },
  {
   "cell_type": "code",
   "execution_count": 3,
   "id": "4ffaed3e-69a4-4e8c-b19c-f91d4839a09b",
   "metadata": {},
   "outputs": [
    {
     "name": "stderr",
     "output_type": "stream",
     "text": [
      "Some features are not enabled in this build of Arrow. Run `arrow_info()` for more information.\n",
      "\n",
      "\n",
      "Attaching package: ‘arrow’\n",
      "\n",
      "\n",
      "The following object is masked from ‘package:magrittr’:\n",
      "\n",
      "    is_in\n",
      "\n",
      "\n",
      "The following object is masked from ‘package:utils’:\n",
      "\n",
      "    timestamp\n",
      "\n",
      "\n"
     ]
    }
   ],
   "source": [
    "library(arrow)"
   ]
  },
  {
   "cell_type": "code",
   "execution_count": 4,
   "id": "a9276ba4-817d-4a03-ae66-a0e0e3889819",
   "metadata": {},
   "outputs": [],
   "source": [
    "library(ggplot2)\n",
    "library(patchwork)\n",
    "library(RColorBrewer)\n",
    "library(ggsci)"
   ]
  },
  {
   "cell_type": "markdown",
   "id": "fdcd90e5-c017-466b-a558-69ec62064e31",
   "metadata": {
    "jp-MarkdownHeadingCollapsed": true,
    "tags": []
   },
   "source": [
    "# Load DApeaks"
   ]
  },
  {
   "cell_type": "code",
   "execution_count": 2,
   "id": "11f1d930-526b-4164-b6a1-e9e8d82b0b22",
   "metadata": {},
   "outputs": [],
   "source": [
    "# base_dir <- \"/home/whe/project/multiomics/PeakAnlys/DApeak_collection\""
   ]
  },
  {
   "cell_type": "code",
   "execution_count": 3,
   "id": "9c06d075-f68d-4643-be88-5a6d716ba238",
   "metadata": {},
   "outputs": [],
   "source": [
    "# DA.bed <- fread(\n",
    "#     path_join(c(base_dir, file_type, \"without_sign\", \"All_DApeak.bed\"))\n",
    "# )\n",
    "\n",
    "# colnames(DA.bed) <- c(\"chr\", \"start\", \"end\", \"DEType\")\n",
    "# DA.bed %<>% mutate(\n",
    "#     peak_name = paste(chr, start, end, sep=\"-\")\n",
    "# )"
   ]
  },
  {
   "cell_type": "code",
   "execution_count": 4,
   "id": "2500d255-b7c7-4762-b01c-5c7d72aa0d3d",
   "metadata": {},
   "outputs": [],
   "source": [
    "# DEType.mtx <- DA.bed$'DEType' %>% str_split(\":\", simplify=T)\n",
    "# colnames(DEType.mtx) <- c(\"region\", \"cluster\")\n",
    "# DA.bed %<>% cbind(DEType.mtx)"
   ]
  },
  {
   "cell_type": "code",
   "execution_count": 5,
   "id": "430eed10-de2a-4dd1-a8e4-897e6f0a7f1a",
   "metadata": {},
   "outputs": [],
   "source": [
    "# file_type <- \"TopicDA\""
   ]
  },
  {
   "cell_type": "code",
   "execution_count": 25,
   "id": "f6e87917-5a71-416b-8e6d-f93f77dc26cd",
   "metadata": {},
   "outputs": [],
   "source": [
    "# DA.peaks <- read_feather(\n",
    "#     \"/home/whe/project/multiomics/SCENIC/Data/Regional_DA/agg.cons.mdf.feather\"\n",
    "# )"
   ]
  },
  {
   "cell_type": "code",
   "execution_count": 41,
   "id": "811df301-4b33-4ef8-9a2a-da3bcd1ea495",
   "metadata": {},
   "outputs": [],
   "source": [
    "# DA.peaks.2 <- DA.peaks %>% filter(\n",
    "#     (pct.1 > 0.2) &\n",
    "#     (abs(min_logfoldchanges) > log2(1.5)) &\n",
    "#     (max_pvals < 0.01)\n",
    "# )"
   ]
  },
  {
   "cell_type": "markdown",
   "id": "fc43a9ab-28c5-4760-bfb8-9adfecaba7e5",
   "metadata": {
    "tags": []
   },
   "source": [
    "# Load DEG"
   ]
  },
  {
   "cell_type": "code",
   "execution_count": 93,
   "id": "05608d58-469e-4b55-b5e4-a38fcf232bec",
   "metadata": {},
   "outputs": [],
   "source": [
    "all.mdf <- fread(\n",
    "    \"project/multiomics/GeneAnlys/Regional_DEG/MAST/agg.cons.mdf.csv\"\n",
    ")"
   ]
  },
  {
   "cell_type": "code",
   "execution_count": 126,
   "id": "384a4de9-4791-4d2d-9e38-2e64d9b260a6",
   "metadata": {},
   "outputs": [],
   "source": [
    "all.mdf.2 <- all.mdf %>% filter(\n",
    "    (sign == \"pos\")\n",
    ")"
   ]
  },
  {
   "cell_type": "markdown",
   "id": "2e4b4a02-d361-4f38-9cc2-fd10f0ecc234",
   "metadata": {},
   "source": [
    "# DEG num"
   ]
  },
  {
   "cell_type": "code",
   "execution_count": 32,
   "id": "54b9eb71-060b-4e38-aedf-211cf704704d",
   "metadata": {},
   "outputs": [],
   "source": [
    "deg.num <- all.mdf.2 %>%\n",
    "    group_by(cluster, region) %>% count() %>%\n",
    "    mutate(match.str=paste(cluster, region)) %>%\n",
    "    tibble::column_to_rownames(\"match.str\")"
   ]
  },
  {
   "cell_type": "markdown",
   "id": "433f2f64-b5ca-4f6d-ab62-4f6888088748",
   "metadata": {},
   "source": [
    "# Plot"
   ]
  },
  {
   "cell_type": "code",
   "execution_count": 7,
   "id": "dca747fa-5e7f-4480-814c-eee1309c8013",
   "metadata": {},
   "outputs": [],
   "source": [
    "region_color_df <- read.csv(\n",
    "    \"project/multiomics/PlotFig/color_dict/region_colors.csv\"\n",
    ")\n",
    "region_color_map <- setNames(\n",
    "    region_color_df$'color', region_color_df$'group'\n",
    ")"
   ]
  },
  {
   "cell_type": "code",
   "execution_count": 8,
   "id": "217c170b-8608-4464-b1b3-89142f46cdd4",
   "metadata": {},
   "outputs": [
    {
     "data": {
      "text/html": [
       "<style>\n",
       ".dl-inline {width: auto; margin:0; padding: 0}\n",
       ".dl-inline>dt, .dl-inline>dd {float: none; width: auto; display: inline-block}\n",
       ".dl-inline>dt::after {content: \":\\0020\"; padding-right: .5ex}\n",
       ".dl-inline>dt:not(:first-of-type) {padding-left: .5ex}\n",
       "</style><dl class=dl-inline><dt>DFC</dt><dd>'#D62728FF'</dd><dt>M1C</dt><dd>'#2CA02CFF'</dd><dt>MFC</dt><dd>'#1F77B4FF'</dd><dt>V1C</dt><dd>'#9467BDFF'</dd></dl>\n"
      ],
      "text/latex": [
       "\\begin{description*}\n",
       "\\item[DFC] '\\#D62728FF'\n",
       "\\item[M1C] '\\#2CA02CFF'\n",
       "\\item[MFC] '\\#1F77B4FF'\n",
       "\\item[V1C] '\\#9467BDFF'\n",
       "\\end{description*}\n"
      ],
      "text/markdown": [
       "DFC\n",
       ":   '#D62728FF'M1C\n",
       ":   '#2CA02CFF'MFC\n",
       ":   '#1F77B4FF'V1C\n",
       ":   '#9467BDFF'\n",
       "\n"
      ],
      "text/plain": [
       "        DFC         M1C         MFC         V1C \n",
       "\"#D62728FF\" \"#2CA02CFF\" \"#1F77B4FF\" \"#9467BDFF\" "
      ]
     },
     "metadata": {},
     "output_type": "display_data"
    }
   ],
   "source": [
    "region_color_map"
   ]
  },
  {
   "cell_type": "code",
   "execution_count": 30,
   "id": "a138c74c-b5bc-4e3c-8e03-55c98b2c0376",
   "metadata": {},
   "outputs": [],
   "source": [
    "region_level <- names(region_color_map)"
   ]
  },
  {
   "cell_type": "code",
   "execution_count": 31,
   "id": "b66dc63e-2b0c-4b6c-88cb-5f74eebd0f35",
   "metadata": {},
   "outputs": [
    {
     "data": {
      "text/html": [
       "<style>\n",
       ".list-inline {list-style: none; margin:0; padding: 0}\n",
       ".list-inline>li {display: inline-block}\n",
       ".list-inline>li:not(:last-child)::after {content: \"\\00b7\"; padding: 0 .5ex}\n",
       "</style>\n",
       "<ol class=list-inline><li>'DFC'</li><li>'M1C'</li><li>'MFC'</li><li>'V1C'</li></ol>\n"
      ],
      "text/latex": [
       "\\begin{enumerate*}\n",
       "\\item 'DFC'\n",
       "\\item 'M1C'\n",
       "\\item 'MFC'\n",
       "\\item 'V1C'\n",
       "\\end{enumerate*}\n"
      ],
      "text/markdown": [
       "1. 'DFC'\n",
       "2. 'M1C'\n",
       "3. 'MFC'\n",
       "4. 'V1C'\n",
       "\n",
       "\n"
      ],
      "text/plain": [
       "[1] \"DFC\" \"M1C\" \"MFC\" \"V1C\""
      ]
     },
     "metadata": {},
     "output_type": "display_data"
    }
   ],
   "source": [
    "region_level"
   ]
  },
  {
   "cell_type": "code",
   "execution_count": 9,
   "id": "baa28f18-bfd1-41a1-a1d1-92e020c03080",
   "metadata": {},
   "outputs": [],
   "source": [
    "subclass_color_df <- read.csv(\n",
    "    \"project/multiomics/PlotFig/color_dict/subclass_colors.csv\"\n",
    ")"
   ]
  },
  {
   "cell_type": "code",
   "execution_count": 10,
   "id": "ec87dd73-a8cb-48d1-85f8-f5c5271e08e3",
   "metadata": {},
   "outputs": [],
   "source": [
    "celltype_level <- subclass_color_df$'group'"
   ]
  },
  {
   "cell_type": "code",
   "execution_count": 11,
   "id": "8de5977e-dabc-40ef-99a8-d1608d9cfa9d",
   "metadata": {},
   "outputs": [
    {
     "data": {
      "text/html": [
       "<style>\n",
       ".list-inline {list-style: none; margin:0; padding: 0}\n",
       ".list-inline>li {display: inline-block}\n",
       ".list-inline>li:not(:last-child)::after {content: \"\\00b7\"; padding: 0 .5ex}\n",
       "</style>\n",
       "<ol class=list-inline><li>'L2-3 IT'</li><li>'L4 IT'</li><li>'L5 IT'</li><li>'L6 IT'</li><li>'L6 IT Car3'</li><li>'L5 ET'</li><li>'L5-6 NP'</li><li>'L6 CT'</li><li>'L6b'</li><li>'LAMP5'</li><li>'VIP'</li><li>'PAX6'</li><li>'PVALB'</li><li>'SST'</li><li>'Astro'</li><li>'Oligo'</li><li>'OPC'</li><li>'Micro-PVM'</li><li>'Endothelial'</li><li>'VLMC'</li><li>'T-cell'</li></ol>\n"
      ],
      "text/latex": [
       "\\begin{enumerate*}\n",
       "\\item 'L2-3 IT'\n",
       "\\item 'L4 IT'\n",
       "\\item 'L5 IT'\n",
       "\\item 'L6 IT'\n",
       "\\item 'L6 IT Car3'\n",
       "\\item 'L5 ET'\n",
       "\\item 'L5-6 NP'\n",
       "\\item 'L6 CT'\n",
       "\\item 'L6b'\n",
       "\\item 'LAMP5'\n",
       "\\item 'VIP'\n",
       "\\item 'PAX6'\n",
       "\\item 'PVALB'\n",
       "\\item 'SST'\n",
       "\\item 'Astro'\n",
       "\\item 'Oligo'\n",
       "\\item 'OPC'\n",
       "\\item 'Micro-PVM'\n",
       "\\item 'Endothelial'\n",
       "\\item 'VLMC'\n",
       "\\item 'T-cell'\n",
       "\\end{enumerate*}\n"
      ],
      "text/markdown": [
       "1. 'L2-3 IT'\n",
       "2. 'L4 IT'\n",
       "3. 'L5 IT'\n",
       "4. 'L6 IT'\n",
       "5. 'L6 IT Car3'\n",
       "6. 'L5 ET'\n",
       "7. 'L5-6 NP'\n",
       "8. 'L6 CT'\n",
       "9. 'L6b'\n",
       "10. 'LAMP5'\n",
       "11. 'VIP'\n",
       "12. 'PAX6'\n",
       "13. 'PVALB'\n",
       "14. 'SST'\n",
       "15. 'Astro'\n",
       "16. 'Oligo'\n",
       "17. 'OPC'\n",
       "18. 'Micro-PVM'\n",
       "19. 'Endothelial'\n",
       "20. 'VLMC'\n",
       "21. 'T-cell'\n",
       "\n",
       "\n"
      ],
      "text/plain": [
       " [1] \"L2-3 IT\"     \"L4 IT\"       \"L5 IT\"       \"L6 IT\"       \"L6 IT Car3\" \n",
       " [6] \"L5 ET\"       \"L5-6 NP\"     \"L6 CT\"       \"L6b\"         \"LAMP5\"      \n",
       "[11] \"VIP\"         \"PAX6\"        \"PVALB\"       \"SST\"         \"Astro\"      \n",
       "[16] \"Oligo\"       \"OPC\"         \"Micro-PVM\"   \"Endothelial\" \"VLMC\"       \n",
       "[21] \"T-cell\"     "
      ]
     },
     "metadata": {},
     "output_type": "display_data"
    }
   ],
   "source": [
    "celltype_level"
   ]
  },
  {
   "cell_type": "markdown",
   "id": "ea98fe75-fd02-4811-8843-d8956a14e580",
   "metadata": {},
   "source": [
    "## plot"
   ]
  },
  {
   "cell_type": "code",
   "execution_count": 33,
   "id": "e78d4780-c39a-4761-a92d-794009a123be",
   "metadata": {},
   "outputs": [],
   "source": [
    "plot.data <- deg.num %<>% mutate(\n",
    "    cluster = factor(cluster, levels=celltype_level),\n",
    "    region = factor(region, levels=region_level)\n",
    ")\n",
    "# plot.data %<>% filter(n >= 5)\n",
    "# plot.data %<>% filter(n >= 30)"
   ]
  },
  {
   "cell_type": "code",
   "execution_count": 34,
   "id": "fb0838f8-a4a2-434b-9f8e-cc017dfd98d6",
   "metadata": {},
   "outputs": [],
   "source": [
    "# ylab <- \"number of differential expression genes\"\n",
    "ylab <- \"number of differential accessibility peaks\"\n",
    "# ylab <- \"number of DEG related peaks\"\n",
    "xlab <- \"celltype\""
   ]
  },
  {
   "cell_type": "code",
   "execution_count": 35,
   "id": "c13bf7c8-1810-464d-9c05-e0fe2246a873",
   "metadata": {},
   "outputs": [],
   "source": [
    "barp <- ggplot(plot.data, aes(fill=region, y=n, x=cluster)) + \n",
    "    geom_bar(position=\"stack\", stat=\"identity\") +\n",
    "    cowplot::theme_cowplot() +\n",
    "    # theme(axis.line = element_blank()) +\n",
    "    scale_fill_manual(\n",
    "        values = region_color_map\n",
    "    ) +\n",
    "    labs(x=xlab, y=ylab) +\n",
    "    theme(\n",
    "        axis.title.y = element_text(margin = margin(t = 0, r = 20, b = 0, l = 10)),\n",
    "        axis.title.x = element_text(margin = margin(t = 10, r = 0, b = 10, l = 0)),\n",
    "        axis.title = element_text(size = 20)\n",
    "    ) +\n",
    "    theme(axis.text = element_text(size = 15,angle = 90, vjust = 0.5, hjust=1)) +\n",
    "    theme(\n",
    "        legend.title = element_text(size = 20),\n",
    "        legend.text = element_text(size = 15)\n",
    "    ) +\n",
    "    theme(\n",
    "        legend.key.height= unit(1, 'cm'),\n",
    "        legend.key.width= unit(1, 'cm')\n",
    "    )"
   ]
  },
  {
   "cell_type": "code",
   "execution_count": 36,
   "id": "4360c2df-0a0c-4f19-9aa3-8d0571957e07",
   "metadata": {},
   "outputs": [
    {
     "data": {
      "text/html": [
       "17"
      ],
      "text/latex": [
       "17"
      ],
      "text/markdown": [
       "17"
      ],
      "text/plain": [
       "[1] 17"
      ]
     },
     "metadata": {},
     "output_type": "display_data"
    }
   ],
   "source": [
    "wl <- barp$data$cluster %>% unique %>% length\n",
    "wl"
   ]
  },
  {
   "cell_type": "code",
   "execution_count": 37,
   "id": "b97b991d-d15b-4823-b697-dc49c8440dce",
   "metadata": {},
   "outputs": [
    {
     "data": {
      "image/png": "[encoded data removed]",
      "text/plain": [
       "plot without title"
      ]
     },
     "metadata": {
      "image/png": {
       "height": 480,
       "width": 1140
      }
     },
     "output_type": "display_data"
    }
   ],
   "source": [
    "w <- wl + 2\n",
    "h <- 8\n",
    "my.plot.size(w, h)\n",
    "barp"
   ]
  },
  {
   "cell_type": "code",
   "execution_count": null,
   "id": "78a4eb45-c484-4321-93b2-7b454245cea9",
   "metadata": {},
   "outputs": [],
   "source": [
    "## save"
   ]
  },
  {
   "cell_type": "code",
   "execution_count": 38,
   "id": "d3c9dd52-15de-43b4-87ff-548d51d02b58",
   "metadata": {},
   "outputs": [
    {
     "data": {
      "text/html": [
       "'project/multiomics/PlotFig/DEG_num/DA/TopicDA'"
      ],
      "text/latex": [
       "'project/multiomics/PlotFig/DEG\\_num/DA/TopicDA'"
      ],
      "text/markdown": [
       "'project/multiomics/PlotFig/DEG_num/DA/TopicDA'"
      ],
      "text/plain": [
       "\u001b[01;34mproject/multiomics/PlotFig/DEG_num/DA/TopicDA\u001b[0m"
      ]
     },
     "metadata": {},
     "output_type": "display_data"
    }
   ],
   "source": [
    "# save_dir <- \"project/multiomics/PlotFig/DEG_num/DEG/raw\"\n",
    "save_dir <- path_join(c(\n",
    "    \"project/multiomics/PlotFig/DEG_num/DA\", \"TopicDA\"\n",
    "))\n",
    "save_dir"
   ]
  },
  {
   "cell_type": "code",
   "execution_count": 39,
   "id": "60d84b31-2461-40ae-b404-bbad00d820fc",
   "metadata": {},
   "outputs": [],
   "source": [
    "dir_create(save_dir)"
   ]
  },
  {
   "cell_type": "code",
   "execution_count": 40,
   "id": "00ddb90f-cfac-4ab1-881e-6d7a38f0c400",
   "metadata": {},
   "outputs": [
    {
     "data": {
      "text/html": [
       "<strong>png:</strong> 2"
      ],
      "text/latex": [
       "\\textbf{png:} 2"
      ],
      "text/markdown": [
       "**png:** 2"
      ],
      "text/plain": [
       "png \n",
       "  2 "
      ]
     },
     "metadata": {},
     "output_type": "display_data"
    }
   ],
   "source": [
    "fpath <- path_join(c(save_dir, \"DEG_num_both.pdf\"))\n",
    "pdf(fpath, w, h)\n",
    "print(barp)\n",
    "dev.off()"
   ]
  },
  {
   "cell_type": "code",
   "execution_count": null,
   "id": "e9e31ad6-7f89-4401-b10d-09e88fd9929c",
   "metadata": {},
   "outputs": [],
   "source": []
  }
 ],
 "metadata": {
  "kernelspec": {
   "display_name": "R [conda env:r4_bio]",
   "language": "R",
   "name": "conda-env-r4_bio-r"
  },
  "language_info": {
   "codemirror_mode": "r",
   "file_extension": ".r",
   "mimetype": "text/x-r-source",
   "name": "R",
   "pygments_lexer": "r",
   "version": "4.1.3"
  }
 },
 "nbformat": 4,
 "nbformat_minor": 5
}

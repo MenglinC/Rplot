{
 "cells": [
  {
   "cell_type": "code",
   "execution_count": 1,
   "id": "a9c870fd-7030-46fb-a839-533d83ec2266",
   "metadata": {},
   "outputs": [],
   "source": [
    "setwd(Sys.getenv(\"HOME\"))"
   ]
  },
  {
   "cell_type": "code",
   "execution_count": 2,
   "id": "c4b5d127-27c6-4fc4-aa77-a04492ca491a",
   "metadata": {},
   "outputs": [],
   "source": [
    "source(\"R_func/mutate_load.R\")\n",
    "source(\"R_func/future_load.R\")"
   ]
  },
  {
   "cell_type": "code",
   "execution_count": 3,
   "id": "e51259bf-fda4-482e-af40-60e2c4e3a6f9",
   "metadata": {},
   "outputs": [
    {
     "name": "stderr",
     "output_type": "stream",
     "text": [
      "Attaching SeuratObject\n",
      "\n",
      "qs v0.25.4.\n",
      "\n"
     ]
    }
   ],
   "source": [
    "source(\"R_func/seurat_load.R\")"
   ]
  },
  {
   "cell_type": "code",
   "execution_count": 4,
   "id": "204d0b05-19f3-4745-a307-fbd050fcb8fc",
   "metadata": {
    "tags": []
   },
   "outputs": [],
   "source": [
    "source(\"R_func/seurat/my.gen.multicolors.R\")"
   ]
  },
  {
   "cell_type": "code",
   "execution_count": 5,
   "id": "c7808790-cfc5-40e9-b387-ab2b4421ab9b",
   "metadata": {},
   "outputs": [
    {
     "name": "stderr",
     "output_type": "stream",
     "text": [
      "\n",
      "Attaching package: ‘tidyr’\n",
      "\n",
      "\n",
      "The following object is masked from ‘package:magrittr’:\n",
      "\n",
      "    extract\n",
      "\n",
      "\n"
     ]
    }
   ],
   "source": [
    "library(tibble)\n",
    "library(tidyr)"
   ]
  },
  {
   "cell_type": "code",
   "execution_count": 6,
   "id": "9cf54868-b0bc-4e95-aafd-e03d157de958",
   "metadata": {},
   "outputs": [],
   "source": [
    "library(ggplot2)"
   ]
  },
  {
   "cell_type": "markdown",
   "id": "8377f380-304a-43dc-9fcd-b7fabe625d64",
   "metadata": {},
   "source": [
    "# Load"
   ]
  },
  {
   "cell_type": "code",
   "execution_count": 7,
   "id": "93609d1a-359f-49b6-85df-3d2ff584a9c1",
   "metadata": {},
   "outputs": [],
   "source": [
    "# load(\"project/multiomics/PlotFig/Compare_corr/human_mouse_corr.rda\")"
   ]
  },
  {
   "cell_type": "code",
   "execution_count": 8,
   "id": "d0630b63-13dc-4c95-ac0e-97378d4e6f8c",
   "metadata": {},
   "outputs": [],
   "source": [
    "hs.cor <- fread(\n",
    "    \"project/multiomics/PlotFig/Compare_corr/corr_data/human_cor_mtx.csv\"\n",
    ")"
   ]
  },
  {
   "cell_type": "code",
   "execution_count": 9,
   "id": "1dafc983-6469-4cae-975b-5f8b43e78f8a",
   "metadata": {},
   "outputs": [],
   "source": [
    "mq.cor <- fread(\n",
    "    \"project/multiomics/PlotFig/Compare_corr/corr_data/macaque_cor_mtx.csv\"\n",
    ")"
   ]
  },
  {
   "cell_type": "code",
   "execution_count": 10,
   "id": "7c2902b1-3237-41ca-937d-3ab52c6b40cc",
   "metadata": {},
   "outputs": [],
   "source": [
    "mm.cor <- fread(\n",
    "    \"project/multiomics/PlotFig/Compare_corr/corr_data/mouse_cor_mtx.csv\"\n",
    ")"
   ]
  },
  {
   "cell_type": "markdown",
   "id": "14324d9b-e86a-48e3-bd96-7f5bb595bdba",
   "metadata": {},
   "source": [
    "# Merge"
   ]
  },
  {
   "cell_type": "code",
   "execution_count": 11,
   "id": "58aeab98-e8da-4089-9359-54596b522217",
   "metadata": {},
   "outputs": [],
   "source": [
    "my.pivot_longer <- function(mtx) {\n",
    "    all.columns <- colnames(mtx)\n",
    "    all.columns <- all.columns[all.columns != 'V1']\n",
    "    mtx %<>% pivot_longer(cols = all_of(all.columns))\n",
    "    colnames(mtx) <- c(\"pair\", \"group\", \"corr\")\n",
    "    return(mtx)\n",
    "}"
   ]
  },
  {
   "cell_type": "code",
   "execution_count": 12,
   "id": "8ada1197-b70f-4348-9552-8022251eee18",
   "metadata": {},
   "outputs": [],
   "source": [
    "cor.list <- list(\n",
    "    'Human' = hs.cor, 'Macaque' = mq.cor, 'Mouse'=mm.cor\n",
    ")"
   ]
  },
  {
   "cell_type": "code",
   "execution_count": 13,
   "id": "8a762372-2f43-4037-a258-0de122e76ca9",
   "metadata": {},
   "outputs": [],
   "source": [
    "merge.cor <- cor.list %>%\n",
    "    lapply(my.pivot_longer) %>%\n",
    "    bind_rows(.id='species')"
   ]
  },
  {
   "cell_type": "code",
   "execution_count": 14,
   "id": "165cd16e-c9a3-4a51-b7bf-f4f1841cf6b3",
   "metadata": {},
   "outputs": [],
   "source": [
    "ind <- merge.cor$'corr' %>% is.na"
   ]
  },
  {
   "cell_type": "code",
   "execution_count": 15,
   "id": "acfab78f-61c8-444e-bddb-ff5f024a21cd",
   "metadata": {},
   "outputs": [
    {
     "data": {
      "text/html": [
       "<table class=\"dataframe\">\n",
       "<caption>A tibble: 3 × 4</caption>\n",
       "<thead>\n",
       "\t<tr><th scope=col>species</th><th scope=col>pair</th><th scope=col>group</th><th scope=col>corr</th></tr>\n",
       "\t<tr><th scope=col>&lt;chr&gt;</th><th scope=col>&lt;chr&gt;</th><th scope=col>&lt;chr&gt;</th><th scope=col>&lt;dbl&gt;</th></tr>\n",
       "</thead>\n",
       "<tbody>\n",
       "\t<tr><td>Mouse</td><td>VIS-ACC</td><td>L6 IT Car3</td><td>NA</td></tr>\n",
       "\t<tr><td>Mouse</td><td>ACC-PFC</td><td>L6 IT Car3</td><td>NA</td></tr>\n",
       "\t<tr><td>Mouse</td><td>ACC-M1C</td><td>L6 IT Car3</td><td>NA</td></tr>\n",
       "</tbody>\n",
       "</table>\n"
      ],
      "text/latex": [
       "A tibble: 3 × 4\n",
       "\\begin{tabular}{llll}\n",
       " species & pair & group & corr\\\\\n",
       " <chr> & <chr> & <chr> & <dbl>\\\\\n",
       "\\hline\n",
       "\t Mouse & VIS-ACC & L6 IT Car3 & NA\\\\\n",
       "\t Mouse & ACC-PFC & L6 IT Car3 & NA\\\\\n",
       "\t Mouse & ACC-M1C & L6 IT Car3 & NA\\\\\n",
       "\\end{tabular}\n"
      ],
      "text/markdown": [
       "\n",
       "A tibble: 3 × 4\n",
       "\n",
       "| species &lt;chr&gt; | pair &lt;chr&gt; | group &lt;chr&gt; | corr &lt;dbl&gt; |\n",
       "|---|---|---|---|\n",
       "| Mouse | VIS-ACC | L6 IT Car3 | NA |\n",
       "| Mouse | ACC-PFC | L6 IT Car3 | NA |\n",
       "| Mouse | ACC-M1C | L6 IT Car3 | NA |\n",
       "\n"
      ],
      "text/plain": [
       "  species pair    group      corr\n",
       "1 Mouse   VIS-ACC L6 IT Car3 NA  \n",
       "2 Mouse   ACC-PFC L6 IT Car3 NA  \n",
       "3 Mouse   ACC-M1C L6 IT Car3 NA  "
      ]
     },
     "metadata": {},
     "output_type": "display_data"
    }
   ],
   "source": [
    "merge.cor[ind, ]"
   ]
  },
  {
   "cell_type": "code",
   "execution_count": 16,
   "id": "61f62ac4-50e3-45ac-be61-6fc52d67c48e",
   "metadata": {},
   "outputs": [],
   "source": [
    "merge.cor <- merge.cor[!ind, ]"
   ]
  },
  {
   "cell_type": "markdown",
   "id": "958b1e24-4edd-4648-ba50-6cac78b7db28",
   "metadata": {},
   "source": [
    "## format"
   ]
  },
  {
   "cell_type": "code",
   "execution_count": 17,
   "id": "df879bfe-f55d-4a76-9fa3-737a1ed347a2",
   "metadata": {},
   "outputs": [
    {
     "data": {
      "text/html": [
       "<style>\n",
       ".list-inline {list-style: none; margin:0; padding: 0}\n",
       ".list-inline>li {display: inline-block}\n",
       ".list-inline>li:not(:last-child)::after {content: \"\\00b7\"; padding: 0 .5ex}\n",
       "</style>\n",
       "<ol class=list-inline><li>'Astro'</li><li>'L2-3 IT'</li><li>'L4 IT'</li><li>'L5 IT'</li><li>'L5-6 NP'</li><li>'L6 CT'</li><li>'L6 IT'</li><li>'L6 IT Car3'</li><li>'L6b'</li><li>'Micro'</li><li>'Non-VIP'</li><li>'Oligo'</li><li>'OPC'</li><li>'PVALB'</li><li>'SST'</li><li>'VIP'</li></ol>\n"
      ],
      "text/latex": [
       "\\begin{enumerate*}\n",
       "\\item 'Astro'\n",
       "\\item 'L2-3 IT'\n",
       "\\item 'L4 IT'\n",
       "\\item 'L5 IT'\n",
       "\\item 'L5-6 NP'\n",
       "\\item 'L6 CT'\n",
       "\\item 'L6 IT'\n",
       "\\item 'L6 IT Car3'\n",
       "\\item 'L6b'\n",
       "\\item 'Micro'\n",
       "\\item 'Non-VIP'\n",
       "\\item 'Oligo'\n",
       "\\item 'OPC'\n",
       "\\item 'PVALB'\n",
       "\\item 'SST'\n",
       "\\item 'VIP'\n",
       "\\end{enumerate*}\n"
      ],
      "text/markdown": [
       "1. 'Astro'\n",
       "2. 'L2-3 IT'\n",
       "3. 'L4 IT'\n",
       "4. 'L5 IT'\n",
       "5. 'L5-6 NP'\n",
       "6. 'L6 CT'\n",
       "7. 'L6 IT'\n",
       "8. 'L6 IT Car3'\n",
       "9. 'L6b'\n",
       "10. 'Micro'\n",
       "11. 'Non-VIP'\n",
       "12. 'Oligo'\n",
       "13. 'OPC'\n",
       "14. 'PVALB'\n",
       "15. 'SST'\n",
       "16. 'VIP'\n",
       "\n",
       "\n"
      ],
      "text/plain": [
       " [1] \"Astro\"      \"L2-3 IT\"    \"L4 IT\"      \"L5 IT\"      \"L5-6 NP\"   \n",
       " [6] \"L6 CT\"      \"L6 IT\"      \"L6 IT Car3\" \"L6b\"        \"Micro\"     \n",
       "[11] \"Non-VIP\"    \"Oligo\"      \"OPC\"        \"PVALB\"      \"SST\"       \n",
       "[16] \"VIP\"       "
      ]
     },
     "metadata": {},
     "output_type": "display_data"
    }
   ],
   "source": [
    "merge.cor$'group' %>% unique %>% sort"
   ]
  },
  {
   "cell_type": "code",
   "execution_count": 18,
   "id": "56643b96-93d6-432e-a2a8-5a1837c4601c",
   "metadata": {},
   "outputs": [],
   "source": [
    "group.levels <- c(\n",
    "    'L2-3 IT', 'L4 IT', \"L5 IT\", \"L6 IT\", \"L6 IT Car3\",\n",
    "    'L5-6 NP', 'L6 CT', 'L6b',\n",
    "    'Non-VIP', 'VIP', 'PVALB', 'SST',\n",
    "    'Astro', 'Oligo', 'OPC', 'Micro'\n",
    ")"
   ]
  },
  {
   "cell_type": "code",
   "execution_count": 19,
   "id": "bbd46b5c-2d93-4162-b164-8bf1bd958f4d",
   "metadata": {},
   "outputs": [
    {
     "data": {
      "text/html": [
       "TRUE"
      ],
      "text/latex": [
       "TRUE"
      ],
      "text/markdown": [
       "TRUE"
      ],
      "text/plain": [
       "[1] TRUE"
      ]
     },
     "metadata": {},
     "output_type": "display_data"
    }
   ],
   "source": [
    "all(merge.cor$'group' %in% group.levels)"
   ]
  },
  {
   "cell_type": "code",
   "execution_count": 20,
   "id": "2aef92c7-20a9-4e93-8d18-b841bab28f2e",
   "metadata": {},
   "outputs": [],
   "source": [
    "pair.levels <- c(\n",
    "    'M1C-PFC', 'VIS-PFC', 'VIS-M1C', 'VIS-ACC',\n",
    "    'ACC-PFC', 'ACC-M1C'\n",
    ")"
   ]
  },
  {
   "cell_type": "code",
   "execution_count": 21,
   "id": "fb5d2ce5-d7b9-4a04-bba4-94ec5c5fb801",
   "metadata": {},
   "outputs": [
    {
     "data": {
      "text/html": [
       "TRUE"
      ],
      "text/latex": [
       "TRUE"
      ],
      "text/markdown": [
       "TRUE"
      ],
      "text/plain": [
       "[1] TRUE"
      ]
     },
     "metadata": {},
     "output_type": "display_data"
    }
   ],
   "source": [
    "all(merge.cor$'pair' %in% pair.levels)"
   ]
  },
  {
   "cell_type": "code",
   "execution_count": 22,
   "id": "6c5065eb-6d59-4b9e-9e69-c0a9382a7514",
   "metadata": {},
   "outputs": [],
   "source": [
    "species.levels <- c(\n",
    "    'Macaque', 'Human', 'Mouse'\n",
    ")"
   ]
  },
  {
   "cell_type": "code",
   "execution_count": 23,
   "id": "77d7ae9b-14ee-4a84-89eb-5d8c7ac6d08e",
   "metadata": {},
   "outputs": [
    {
     "data": {
      "text/html": [
       "TRUE"
      ],
      "text/latex": [
       "TRUE"
      ],
      "text/markdown": [
       "TRUE"
      ],
      "text/plain": [
       "[1] TRUE"
      ]
     },
     "metadata": {},
     "output_type": "display_data"
    }
   ],
   "source": [
    "all(merge.cor$'species' %in% species.levels)"
   ]
  },
  {
   "cell_type": "code",
   "execution_count": 24,
   "id": "1f311568-76a2-4b7a-a66e-60c5cccf29f4",
   "metadata": {},
   "outputs": [],
   "source": [
    "merge.cor %<>% mutate(\n",
    "    species = factor(species, species.levels),\n",
    "    pair = factor(pair, pair.levels),\n",
    "    group = factor(group, group.levels)\n",
    ")"
   ]
  },
  {
   "cell_type": "code",
   "execution_count": 25,
   "id": "60d9f95a-bb00-424a-a701-caa6583be802",
   "metadata": {},
   "outputs": [],
   "source": [
    "merge.cor$'score' <- 1 - merge.cor$'corr'"
   ]
  },
  {
   "cell_type": "code",
   "execution_count": 26,
   "id": "383bf6b5-41f0-4ef9-b703-3494275a4a68",
   "metadata": {},
   "outputs": [
    {
     "data": {
      "text/html": [
       "<table class=\"dataframe\">\n",
       "<caption>A tibble: 6 × 5</caption>\n",
       "<thead>\n",
       "\t<tr><th scope=col>species</th><th scope=col>pair</th><th scope=col>group</th><th scope=col>corr</th><th scope=col>score</th></tr>\n",
       "\t<tr><th scope=col>&lt;fct&gt;</th><th scope=col>&lt;fct&gt;</th><th scope=col>&lt;fct&gt;</th><th scope=col>&lt;dbl&gt;</th><th scope=col>&lt;dbl&gt;</th></tr>\n",
       "</thead>\n",
       "<tbody>\n",
       "\t<tr><td>Human</td><td>VIS-PFC</td><td>L5 IT     </td><td>0.9639559</td><td>0.03604408</td></tr>\n",
       "\t<tr><td>Human</td><td>VIS-PFC</td><td>L4 IT     </td><td>0.8889821</td><td>0.11101792</td></tr>\n",
       "\t<tr><td>Human</td><td>VIS-PFC</td><td>L2-3 IT   </td><td>0.9529626</td><td>0.04703743</td></tr>\n",
       "\t<tr><td>Human</td><td>VIS-PFC</td><td>L6 IT Car3</td><td>0.9424644</td><td>0.05753563</td></tr>\n",
       "\t<tr><td>Human</td><td>VIS-PFC</td><td>L6 IT     </td><td>0.9533112</td><td>0.04668883</td></tr>\n",
       "\t<tr><td>Human</td><td>VIS-PFC</td><td>L6 CT     </td><td>0.9274111</td><td>0.07258888</td></tr>\n",
       "</tbody>\n",
       "</table>\n"
      ],
      "text/latex": [
       "A tibble: 6 × 5\n",
       "\\begin{tabular}{lllll}\n",
       " species & pair & group & corr & score\\\\\n",
       " <fct> & <fct> & <fct> & <dbl> & <dbl>\\\\\n",
       "\\hline\n",
       "\t Human & VIS-PFC & L5 IT      & 0.9639559 & 0.03604408\\\\\n",
       "\t Human & VIS-PFC & L4 IT      & 0.8889821 & 0.11101792\\\\\n",
       "\t Human & VIS-PFC & L2-3 IT    & 0.9529626 & 0.04703743\\\\\n",
       "\t Human & VIS-PFC & L6 IT Car3 & 0.9424644 & 0.05753563\\\\\n",
       "\t Human & VIS-PFC & L6 IT      & 0.9533112 & 0.04668883\\\\\n",
       "\t Human & VIS-PFC & L6 CT      & 0.9274111 & 0.07258888\\\\\n",
       "\\end{tabular}\n"
      ],
      "text/markdown": [
       "\n",
       "A tibble: 6 × 5\n",
       "\n",
       "| species &lt;fct&gt; | pair &lt;fct&gt; | group &lt;fct&gt; | corr &lt;dbl&gt; | score &lt;dbl&gt; |\n",
       "|---|---|---|---|---|\n",
       "| Human | VIS-PFC | L5 IT      | 0.9639559 | 0.03604408 |\n",
       "| Human | VIS-PFC | L4 IT      | 0.8889821 | 0.11101792 |\n",
       "| Human | VIS-PFC | L2-3 IT    | 0.9529626 | 0.04703743 |\n",
       "| Human | VIS-PFC | L6 IT Car3 | 0.9424644 | 0.05753563 |\n",
       "| Human | VIS-PFC | L6 IT      | 0.9533112 | 0.04668883 |\n",
       "| Human | VIS-PFC | L6 CT      | 0.9274111 | 0.07258888 |\n",
       "\n"
      ],
      "text/plain": [
       "  species pair    group      corr      score     \n",
       "1 Human   VIS-PFC L5 IT      0.9639559 0.03604408\n",
       "2 Human   VIS-PFC L4 IT      0.8889821 0.11101792\n",
       "3 Human   VIS-PFC L2-3 IT    0.9529626 0.04703743\n",
       "4 Human   VIS-PFC L6 IT Car3 0.9424644 0.05753563\n",
       "5 Human   VIS-PFC L6 IT      0.9533112 0.04668883\n",
       "6 Human   VIS-PFC L6 CT      0.9274111 0.07258888"
      ]
     },
     "metadata": {},
     "output_type": "display_data"
    }
   ],
   "source": [
    "merge.cor %>% head"
   ]
  },
  {
   "cell_type": "markdown",
   "id": "a7dc043d-2e4e-47ce-a21b-aaae20a71051",
   "metadata": {},
   "source": [
    "# draw"
   ]
  },
  {
   "cell_type": "code",
   "execution_count": 27,
   "id": "03a04c44-2686-486b-80eb-7620a2592e22",
   "metadata": {},
   "outputs": [],
   "source": [
    "plot.data <- merge.cor"
   ]
  },
  {
   "cell_type": "code",
   "execution_count": 41,
   "id": "fcf92f79-1cc8-4fa3-b8d8-611ec36dac0e",
   "metadata": {},
   "outputs": [],
   "source": [
    "hplot <- ggplot(plot.data, aes(x=species, y=pair, fill=score))+\n",
    "    geom_tile(colour=\"white\") +\n",
    "    cowplot::theme_cowplot() +\n",
    "    labs(title = 'correlation between cortex region', x=NULL, y=NULL) +\n",
    "    theme(\n",
    "        axis.title.y = element_text(margin = margin(t = 0, r = 5, b = 0, l = 0)),\n",
    "        axis.title.x = element_text(margin = margin(t = 5, r = 0, b = , l = 0)),\n",
    "        plot.title = element_text(margin = margin(t = 0, r = 0, b = 5, l = 0), hjust = 0.5)\n",
    "    ) +\n",
    "    theme(axis.text.x = element_text(angle = 90, vjust = 0.5, hjust=1)) +\n",
    "    theme(axis.text.x = element_text(size=6)) +\n",
    "    theme(axis.text.y = element_text(size=6)) +\n",
    "    theme(axis.title.x = element_text(size=8)) +\n",
    "    theme(axis.title.y = element_text(size=8)) +\n",
    "    theme(plot.title = element_text(size=8)) +\n",
    "    theme(legend.text=element_text(size=6)) +\n",
    "    theme(legend.title=element_text(size=8)) +\n",
    "    theme(\n",
    "        legend.key.height= unit(0.3,'cm'),\n",
    "        legend.key.width= unit(0.2,'cm'),\n",
    "    ) +\n",
    "    scale_fill_continuous(type = \"viridis\", name=\"1-corr\") +\n",
    "    # scale_fill_binned(type = \"viridis\", name=\"1-corr\", n.breaks=6) +\n",
    "    facet_grid(\n",
    "        ~group, scales = \"free_x\", space = \"free_x\", switch = \"x\"\n",
    "    ) +\n",
    "    theme(strip.text = element_text(size=6))"
   ]
  },
  {
   "cell_type": "code",
   "execution_count": 43,
   "id": "117f6dfb-4718-4b22-900e-c3e24806e185",
   "metadata": {},
   "outputs": [
    {
     "data": {
      "image/png": "[encoded data removed]",
      "text/plain": [
       "plot without title"
      ]
     },
     "metadata": {
      "image/png": {
       "height": 101.5748,
       "width": 472.4409
      }
     },
     "output_type": "display_data"
    }
   ],
   "source": [
    "w <- 20\n",
    "h <- 4.3\n",
    "my.plot.size(w, h, unit='cm')\n",
    "hplot"
   ]
  },
  {
   "cell_type": "code",
   "execution_count": 44,
   "id": "786c9b2d-ba21-4e43-bf75-0469e141b7c8",
   "metadata": {},
   "outputs": [
    {
     "data": {
      "text/html": [
       "<strong>png:</strong> 2"
      ],
      "text/latex": [
       "\\textbf{png:} 2"
      ],
      "text/markdown": [
       "**png:** 2"
      ],
      "text/plain": [
       "png \n",
       "  2 "
      ]
     },
     "metadata": {},
     "output_type": "display_data"
    }
   ],
   "source": [
    "pdf(\n",
    "    \"project/multiomics/PlotFig/Compare_corr/spe_corr.pdf\",\n",
    "    width=unit(w/2.54, 'cm'), height=unit(h/2.54, 'cm')\n",
    ")\n",
    "hplot\n",
    "dev.off()"
   ]
  },
  {
   "cell_type": "code",
   "execution_count": null,
   "id": "8a6e3f49-8289-497a-8023-7c3f86132423",
   "metadata": {},
   "outputs": [],
   "source": []
  }
 ],
 "metadata": {
  "kernelspec": {
   "display_name": "R [conda env:r4_bio]",
   "language": "R",
   "name": "conda-env-r4_bio-r"
  },
  "language_info": {
   "codemirror_mode": "r",
   "file_extension": ".r",
   "mimetype": "text/x-r-source",
   "name": "R",
   "pygments_lexer": "r",
   "version": "4.1.3"
  }
 },
 "nbformat": 4,
 "nbformat_minor": 5
}
